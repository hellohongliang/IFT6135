{
 "cells": [
  {
   "cell_type": "code",
   "execution_count": 1,
   "metadata": {
    "collapsed": true
   },
   "outputs": [],
   "source": [
    "import numpy as np\n",
    "from __future__ import print_function\n",
    "import matplotlib.pyplot as plt\n",
    "%matplotlib inline"
   ]
  },
  {
   "cell_type": "code",
   "execution_count": 2,
   "metadata": {
    "collapsed": true
   },
   "outputs": [],
   "source": [
    "import torch\n",
    "import torch.optim as optim\n",
    "import torch.nn as nn\n",
    "from torch.autograd import Variable\n",
    "from torch.utils.data import Dataset, DataLoader"
   ]
  },
  {
   "cell_type": "code",
   "execution_count": 3,
   "metadata": {
    "collapsed": true
   },
   "outputs": [],
   "source": [
    "# Download mnist dataset with train, validation and test seperation using download.py \n",
    "# from https://github.com/CW-Huang/IFT6135H19_assignment/blob/master/download.py \n",
    "# Make sure the downloaded dataset is with the same directory with this code \n",
    "# Load it as numpy array\n",
    "\n",
    "dataset = np.load('mnist.pkl.npy')"
   ]
  },
  {
   "cell_type": "code",
   "execution_count": 4,
   "metadata": {
    "collapsed": true
   },
   "outputs": [],
   "source": [
    "# Build train, validation and test arrays\n",
    "im_size = (28,28)\n",
    "train_x = np.reshape(dataset[0,0], [-1,1,im_size[0],im_size[1]])\n",
    "train_y = dataset[0,1]\n",
    "\n",
    "validate_x = np.reshape(dataset[1,0], [-1,1,im_size[0],im_size[1]])\n",
    "validate_y = dataset[1,1]\n",
    "\n",
    "test_x = np.reshape(dataset[2,0], [-1,1,im_size[0],im_size[1]])\n",
    "test_y = dataset[2,1]\n",
    "\n",
    "# Pytorch train and test sets\n",
    "train_x = torch.from_numpy(train_x)\n",
    "train_y = torch.from_numpy(train_y)\n",
    "\n",
    "validate_x = torch.from_numpy(validate_x)\n",
    "validate_y = torch.from_numpy(validate_y)\n",
    "\n",
    "test_x = torch.from_numpy(test_x)\n",
    "test_y = torch.from_numpy(test_y)"
   ]
  },
  {
   "cell_type": "code",
   "execution_count": 5,
   "metadata": {
    "collapsed": true
   },
   "outputs": [],
   "source": [
    "# Convert to tensor\n",
    "train_dataset = torch.utils.data.TensorDataset(train_x.float(),train_y.float())\n",
    "val_dataset = torch.utils.data.TensorDataset(validate_x.float(),validate_y.float())\n",
    "test_dataset = torch.utils.data.TensorDataset(test_x.float(),test_y.float())"
   ]
  },
  {
   "cell_type": "code",
   "execution_count": 6,
   "metadata": {
    "collapsed": true
   },
   "outputs": [],
   "source": [
    "# Apply torch data loader\n",
    "train_batch_size = 50;\n",
    "val_batch_size = 1000;\n",
    "test_batch_size = 1000;\n",
    "\n",
    "train_loader = torch.utils.data.DataLoader(train_dataset, batch_size = train_batch_size, shuffle = True)\n",
    "val_loader = torch.utils.data.DataLoader(val_dataset, batch_size = val_batch_size, shuffle = False)\n",
    "test_loader = torch.utils.data.DataLoader(test_dataset, batch_size = test_batch_size, shuffle = False)"
   ]
  },
  {
   "cell_type": "code",
   "execution_count": 7,
   "metadata": {
    "collapsed": true
   },
   "outputs": [],
   "source": [
    "# Define numbers of epoch and learning rate\n",
    "num_epochs = 10;\n",
    "learning_rate = 0.01;"
   ]
  },
  {
   "cell_type": "code",
   "execution_count": 8,
   "metadata": {
    "collapsed": true
   },
   "outputs": [],
   "source": [
    "# Define a CNN model with five convolutional layers and one linear layer. This architecture refers to the architecture from  \n",
    "# https://github.com/MaximumEntropy/welcome_tutorials/blob/pytorch/pytorch/4.Image Classification with Convnets and ResNets.ipynb\n",
    "# The total numbers of parameters are \n",
    "# (3*3*1+1)*16 + (3*3*16+1)*32 + (3*3*32+1)*64 + (3*3*64+1)*128 + (3*3*128+1)*256  + (256+1)*10 = 394890\n",
    "\n",
    "class CNN(nn.Module):\n",
    "    def __init__(self):\n",
    "        super(CNN, self).__init__()\n",
    "        self.conv = nn.Sequential(\n",
    "            # Layer 1\n",
    "            nn.Conv2d(in_channels=1, out_channels=16, kernel_size=(3, 3), padding=1),\n",
    "            nn.ReLU(),\n",
    "            nn.MaxPool2d(kernel_size=(2, 2), stride=2),\n",
    "            \n",
    "            # Layer 2\n",
    "            nn.Conv2d(in_channels=16, out_channels=32, kernel_size=(3, 3), padding=1),\n",
    "            nn.ReLU(),\n",
    "            nn.MaxPool2d(kernel_size=(2, 2), stride=2),\n",
    "            \n",
    "            # Layer 3\n",
    "            nn.Conv2d(in_channels=32, out_channels=64, kernel_size=(3, 3), padding=1),\n",
    "            nn.ReLU(),\n",
    "            nn.MaxPool2d(kernel_size=(2, 2), stride=1),\n",
    "            \n",
    "            # Layer 4\n",
    "            nn.Conv2d(in_channels=64, out_channels=128, kernel_size=(3, 3), padding=1),\n",
    "            nn.ReLU(),\n",
    "            nn.MaxPool2d(kernel_size=(2, 2), stride=2),\n",
    "            \n",
    "            # Layer 5           \n",
    "            nn.Conv2d(in_channels=128, out_channels=256, kernel_size=(3, 3), padding=1),\n",
    "            nn.ReLU(),\n",
    "            nn.MaxPool2d(kernel_size=(2, 2), stride=2))\n",
    "        \n",
    "        # Logistic Regression\n",
    "        self.clf = nn.Linear(256, 10)\n",
    "\n",
    "    def forward(self, x):   \n",
    "        return self.clf(self.conv(x).squeeze())"
   ]
  },
  {
   "cell_type": "code",
   "execution_count": 9,
   "metadata": {
    "collapsed": true
   },
   "outputs": [],
   "source": [
    "# Check if GPU is available\n",
    "cuda_available = torch.cuda.is_available()"
   ]
  },
  {
   "cell_type": "code",
   "execution_count": 10,
   "metadata": {
    "collapsed": true
   },
   "outputs": [],
   "source": [
    "# Generate a instance of the CNN\n",
    "cnn = CNN();\n",
    "if cuda_available:\n",
    "    cnn = cnn.cuda()\n",
    "    \n",
    "# Define loss function and optimizer\n",
    "criterion = nn.CrossEntropyLoss();\n",
    "optimizer = torch.optim.SGD(cnn.parameters(), lr=learning_rate, momentum=0.5);"
   ]
  },
  {
   "cell_type": "code",
   "execution_count": 11,
   "metadata": {},
   "outputs": [
    {
     "name": "stdout",
     "output_type": "stream",
     "text": [
      "CNN(\n",
      "  (conv): Sequential(\n",
      "    (0): Conv2d(1, 16, kernel_size=(3, 3), stride=(1, 1), padding=(1, 1))\n",
      "    (1): ReLU()\n",
      "    (2): MaxPool2d(kernel_size=(2, 2), stride=2, padding=0, dilation=1, ceil_mode=False)\n",
      "    (3): Conv2d(16, 32, kernel_size=(3, 3), stride=(1, 1), padding=(1, 1))\n",
      "    (4): ReLU()\n",
      "    (5): MaxPool2d(kernel_size=(2, 2), stride=2, padding=0, dilation=1, ceil_mode=False)\n",
      "    (6): Conv2d(32, 64, kernel_size=(3, 3), stride=(1, 1), padding=(1, 1))\n",
      "    (7): ReLU()\n",
      "    (8): MaxPool2d(kernel_size=(2, 2), stride=1, padding=0, dilation=1, ceil_mode=False)\n",
      "    (9): Conv2d(64, 128, kernel_size=(3, 3), stride=(1, 1), padding=(1, 1))\n",
      "    (10): ReLU()\n",
      "    (11): MaxPool2d(kernel_size=(2, 2), stride=2, padding=0, dilation=1, ceil_mode=False)\n",
      "    (12): Conv2d(128, 256, kernel_size=(3, 3), stride=(1, 1), padding=(1, 1))\n",
      "    (13): ReLU()\n",
      "    (14): MaxPool2d(kernel_size=(2, 2), stride=2, padding=0, dilation=1, ceil_mode=False)\n",
      "  )\n",
      "  (clf): Linear(in_features=256, out_features=10, bias=True)\n",
      ")\n"
     ]
    }
   ],
   "source": [
    "print(cnn)"
   ]
  },
  {
   "cell_type": "code",
   "execution_count": 12,
   "metadata": {},
   "outputs": [
    {
     "name": "stdout",
     "output_type": "stream",
     "text": [
      "Epoch : 1 Train loss : 2.090 \n",
      "Epoch : 1 Validation loss : 0.557 \n",
      "Test Accuracy of the model on the 10000 validation images: 83.0000 %\n",
      "Epoch : 2 Train loss : 0.269 \n",
      "Epoch : 2 Validation loss : 0.117 \n",
      "Test Accuracy of the model on the 10000 validation images: 96.0000 %\n",
      "Epoch : 3 Train loss : 0.117 \n",
      "Epoch : 3 Validation loss : 0.098 \n",
      "Test Accuracy of the model on the 10000 validation images: 96.0000 %\n",
      "Epoch : 4 Train loss : 0.082 \n",
      "Epoch : 4 Validation loss : 0.068 \n",
      "Test Accuracy of the model on the 10000 validation images: 97.0000 %\n",
      "Epoch : 5 Train loss : 0.067 \n",
      "Epoch : 5 Validation loss : 0.060 \n",
      "Test Accuracy of the model on the 10000 validation images: 98.0000 %\n",
      "Epoch : 6 Train loss : 0.055 \n",
      "Epoch : 6 Validation loss : 0.078 \n",
      "Test Accuracy of the model on the 10000 validation images: 97.0000 %\n",
      "Epoch : 7 Train loss : 0.047 \n",
      "Epoch : 7 Validation loss : 0.055 \n",
      "Test Accuracy of the model on the 10000 validation images: 98.0000 %\n",
      "Epoch : 8 Train loss : 0.041 \n",
      "Epoch : 8 Validation loss : 0.054 \n",
      "Test Accuracy of the model on the 10000 validation images: 98.0000 %\n",
      "Epoch : 9 Train loss : 0.035 \n",
      "Epoch : 9 Validation loss : 0.050 \n",
      "Test Accuracy of the model on the 10000 validation images: 98.0000 %\n",
      "Epoch : 10 Train loss : 0.033 \n",
      "Epoch : 10 Validation loss : 0.041 \n",
      "Test Accuracy of the model on the 10000 validation images: 98.0000 %\n"
     ]
    }
   ],
   "source": [
    "# Do train and validation test\n",
    "train_loss_list = []\n",
    "val_loss_list = []\n",
    "\n",
    "for epoch in range(num_epochs):\n",
    "    \n",
    "# Train model\n",
    "    train_losses = []\n",
    "    val_losses = []\n",
    "\n",
    "    for i, (images, labels) in enumerate(train_loader):\n",
    "        \n",
    "        if cuda_available:\n",
    "            images, labels = images.cuda(), labels.cuda()\n",
    "        \n",
    "        labels = labels.long()\n",
    "        images = Variable(images)\n",
    "        labels = Variable(labels)\n",
    "        \n",
    "        # Forward + Backward + Optimize\n",
    "        optimizer.zero_grad()\n",
    "        outputs = cnn(images)\n",
    "        loss = criterion(outputs, labels)\n",
    "        \n",
    "\n",
    "        loss.backward()\n",
    "        optimizer.step()\n",
    "        \n",
    "        train_losses.append(loss.item());\n",
    "\n",
    "    train_loss_list.append(np.mean(train_losses))\n",
    "    print('Epoch : %d Train loss : %.3f ' % (epoch+1, np.mean(train_losses)))\n",
    "    \n",
    "            \n",
    "# Validation test\n",
    "    cnn.eval()\n",
    "    correct = 0\n",
    "    total = 0\n",
    "\n",
    "    for (images, labels) in val_loader:\n",
    "        images, labels = Variable(images), Variable(labels)\n",
    "        labels = labels.long()\n",
    "        \n",
    "        outputs = cnn(images)\n",
    "        loss = criterion(outputs, labels)\n",
    "        val_losses.append(loss.item());\n",
    "        _, predicted = torch.max(outputs.data, 1)\n",
    "\n",
    "        total += labels.size(0)\n",
    " \n",
    "        correct += (predicted == labels.data).sum()\n",
    "    \n",
    "    val_loss_list.append(np.mean(val_losses))\n",
    "    print('Epoch : %d Validation loss : %.3f ' % (epoch+1, np.mean(val_losses)))\n",
    "    print('Test Accuracy of the model on the 10000 validation images: %.4f %%' % (100 * correct / total))\n",
    "      "
   ]
  },
  {
   "cell_type": "code",
   "execution_count": 13,
   "metadata": {},
   "outputs": [
    {
     "name": "stdout",
     "output_type": "stream",
     "text": [
      "The train erros of 10 epochs are [2.0898662351071833, 0.26863609709590675, 0.11656876287609338, 0.082333156525855877, 0.066571214697556572, 0.055100712203187865, 0.047392328367102894, 0.040538050214119721, 0.035341240907262546, 0.032806129832955777]\n",
      "========================================================================================================================\n",
      "The validation erros of 10 epochs are [0.5572406023740768, 0.11719357892870903, 0.098012304306030279, 0.067866875417530531, 0.060328469984233378, 0.078000639937818056, 0.055262971483170983, 0.054385329596698284, 0.050006810948252677, 0.041478047519922255]\n"
     ]
    }
   ],
   "source": [
    "# Show train and validation errors\n",
    "print('The train erros of 10 epochs are', train_loss_list)\n",
    "print('========================================================================================================================')\n",
    "print('The validation erros of 10 epochs are', val_loss_list)"
   ]
  },
  {
   "cell_type": "code",
   "execution_count": 14,
   "metadata": {},
   "outputs": [
    {
     "data": {
      "image/png": "[encoded data removed]",
      "text/plain": [
       "<Figure size 432x288 with 1 Axes>"
      ]
     },
     "metadata": {},
     "output_type": "display_data"
    }
   ],
   "source": [
    "# Plot train and validation error of each epoch\n",
    "x_axis = np.linspace(1, num_epochs, num_epochs)\n",
    "plt.gca().set_prop_cycle(color=['red', 'blue'])\n",
    "plt.plot(x_axis, train_loss_list)\n",
    "plt.plot(x_axis, val_loss_list)\n",
    "#plt.axis(x_axis)\n",
    "plt.xticks(x_axis)\n",
    "plt.xlabel('Epoch')\n",
    "plt.ylabel('Error')\n",
    "plt.title('CNN error')\n",
    "plt.legend(['Train error', 'Validation error'], loc='upper right')\n",
    "plt.show()"
   ]
  },
  {
   "cell_type": "code",
   "execution_count": 15,
   "metadata": {},
   "outputs": [
    {
     "name": "stdout",
     "output_type": "stream",
     "text": [
      "Test Accuracy of the model on the 10000 test images: 99.0000 %\n"
     ]
    }
   ],
   "source": [
    "# Test the model with test dataset\n",
    "cnn.eval()\n",
    "\n",
    "success = 0 # Number of correct prediction\n",
    "total = 0 # Total number of test dataset\n",
    "\n",
    "for (images, labels) in test_loader:\n",
    "    \n",
    "    images, labels = Variable(images), Variable(labels)\n",
    "    labels = labels.long()\n",
    "        \n",
    "    outputs = cnn(images)\n",
    "    _, predicted = torch.max(outputs.data, 1)\n",
    "\n",
    "    total += labels.size(0)\n",
    " \n",
    "    # Add correct prediciton to success\n",
    "    success += (predicted == labels.data).sum()\n",
    "\n",
    "print('Test Accuracy of the model on the 10000 test images: %.4f %%' % (100 * success / total))"
   ]
  }
 ],
 "metadata": {
  "kernelspec": {
   "display_name": "Python 3",
   "language": "python",
   "name": "python3"
  },
  "language_info": {
   "codemirror_mode": {
    "name": "ipython",
    "version": 3
   },
   "file_extension": ".py",
   "mimetype": "text/x-python",
   "name": "python",
   "nbconvert_exporter": "python",
   "pygments_lexer": "ipython3",
   "version": "3.6.3"
  }
 },
 "nbformat": 4,
 "nbformat_minor": 2
}
